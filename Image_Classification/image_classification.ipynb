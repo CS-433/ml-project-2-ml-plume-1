{
 "cells": [
  {
   "cell_type": "code",
   "execution_count": 1,
   "id": "steady-agent",
   "metadata": {},
   "outputs": [],
   "source": [
    "# We import the usual libraries\n",
    "import numpy as np\n",
    "import matplotlib.pyplot as plt\n",
    "import cv2\n",
    "import os  # to load the images from a folder\n",
    "from sklearn.decomposition import PCA"
   ]
  },
  {
   "cell_type": "code",
   "execution_count": 2,
   "id": "armed-promise",
   "metadata": {},
   "outputs": [],
   "source": [
    "# We import the function that implements k-means\n",
    "from sklearn.cluster import KMeans, DBSCAN"
   ]
  },
  {
   "cell_type": "code",
   "execution_count": 3,
   "id": "authentic-karen",
   "metadata": {},
   "outputs": [],
   "source": [
    "# We import the data\n",
    "data = []\n",
    "# print(os.getcwd())\n",
    "os.chdir(\"/home/maribel/ml-project-2-ml-plume-1/Automatic_Filtering\")\n",
    "folderSave = 'Save_3K'\n",
    "filenames = os.listdir(folderSave)\n",
    "for filename in filenames:\n",
    "        img = cv2.imread(os.path.join(folderSave,filename), cv2.IMREAD_GRAYSCALE)\n",
    "        data.append(img)\n",
    "data = np.array(data)"
   ]
  },
  {
   "cell_type": "code",
   "execution_count": 4,
   "id": "greek-posting",
   "metadata": {},
   "outputs": [
    {
     "name": "stdout",
     "output_type": "stream",
     "text": [
      "(1000, 128, 160)\n"
     ]
    }
   ],
   "source": [
    "print(data.shape)\n",
    "transformed_data = data.reshape((data.shape[0], data.shape[1]*data.shape[2]))\n",
    "\n",
    "pca = PCA(n_components = 100)\n",
    "pca.fit(transformed_data)\n",
    "trans_pca = pca.transform(transformed_data)\n",
    "img_reduced = pca.inverse_transform(trans_pca)"
   ]
  },
  {
   "cell_type": "code",
   "execution_count": 5,
   "id": "final-triple",
   "metadata": {},
   "outputs": [],
   "source": [
    "np.random.seed(1)"
   ]
  },
  {
   "cell_type": "code",
   "execution_count": 6,
   "id": "amazing-french",
   "metadata": {},
   "outputs": [],
   "source": [
    "# We have 3 different clusters:\n",
    "#  * Triangle with overflow\n",
    "#  * Triangle without overflow\n",
    "#  * Patatoid with overflow\n",
    "#  * Bad Images\n",
    "n = 4"
   ]
  },
  {
   "cell_type": "code",
   "execution_count": null,
   "id": "romantic-passage",
   "metadata": {},
   "outputs": [],
   "source": [
    "# We classify the data with k-means\n",
    "kmeans = KMeans(n_clusters=n,init='random')\n",
    "kmeans.fit(img_reduced)\n",
    "Z = kmeans.predict(img_reduced)"
   ]
  },
  {
   "cell_type": "code",
   "execution_count": null,
   "id": "impressed-collection",
   "metadata": {},
   "outputs": [],
   "source": [
    "# We plot the resulting clusters\n",
    "for i in range(0,n):\n",
    "    \n",
    "    row = np.where(Z==i)[0] # row in Z for elements of cluster i\n",
    "    num = row.shape[0]      # number of elements for each cluster\n",
    "    r = np.floor(num/20.)   # number of rows in the figure of the cluster\n",
    "    \n",
    "    print(\"cluster \" + str(i))\n",
    "    print(str(num) + \" elements\")\n",
    "    \n",
    "    plt.figure(figsize=(20,20), dpi=300)\n",
    "    for k in range(0, num):\n",
    "        plt.subplot(int(r+1), 20, k+1)\n",
    "        image = data[row[k], ]\n",
    "        image = image.reshape(160, 128)\n",
    "        plt.imshow(image, cmap='gray')\n",
    "        plt.axis('off')\n",
    "    plt.show()"
   ]
  },
  {
   "cell_type": "code",
   "execution_count": null,
   "id": "innocent-simon",
   "metadata": {},
   "outputs": [],
   "source": [
    "# holds the cluster id and the images { id: [images] }\n",
    "groups = {}\n",
    "for file, cluster in zip(filenames,kmeans.labels_):\n",
    "    if cluster not in groups.keys():\n",
    "        groups[cluster] = []\n",
    "        groups[cluster].append(file)\n",
    "    else:\n",
    "        groups[cluster].append(file)"
   ]
  },
  {
   "cell_type": "code",
   "execution_count": null,
   "id": "excessive-third",
   "metadata": {},
   "outputs": [],
   "source": [
    "# print(f'Cluster 0: {groups[0]} \\n')\n",
    "# print(f'Cluster 1: {groups[1]} \\n')\n",
    "# print(f'Cluster 2: {groups[2]} \\n')\n",
    "# print(f'Cluster 3: {groups[3]} \\n')"
   ]
  },
  {
   "cell_type": "code",
   "execution_count": null,
   "id": "infectious-generation",
   "metadata": {},
   "outputs": [],
   "source": [
    "clustering = DBSCAN(eps=3, min_samples=2).fit(data)\n",
    "# clustering = DBSCAN(eps=0.08, # default=0.5, The maximum distance between two samples for one to be considered as in the neighborhood of the other.\n",
    "               #min_samples=3, # default=5, The number of samples (or total weight) in a neighborhood for a point to be considered as a core point.\n",
    "               #metric='euclidean', # default='euclidean'. The metric to use when calculating distance between instances in a feature array. \n",
    "               #metric_params=None, # default=None, Additional keyword arguments for the metric function.\n",
    "               #algorithm='auto', # {‘auto’, ‘ball_tree’, ‘kd_tree’, ‘brute’}, default=’auto’, The algorithm to be used by the NearestNeighbors module to compute pointwise distances and find nearest neighbors.\n",
    "               #leaf_size=30, # default=30, Leaf size passed to BallTree or cKDTree.\n",
    "               #p=None, # default=None, The power of the Minkowski metric to be used to calculate distance between points. If None, then p=2\n",
    "               #n_jobs=None, # default=None, The number of parallel jobs to run. None means 1 unless in a joblib.parallel_backend context. -1 means using all processors.\n",
    "              #)\n",
    "#clustering.fit(data)\n",
    "print(clustering.labels_)"
   ]
  },
  {
   "cell_type": "code",
   "execution_count": null,
   "id": "finished-spending",
   "metadata": {},
   "outputs": [],
   "source": [
    "# We plot the resulting clusters\n",
    "for i in range(0,n):\n",
    "    \n",
    "    row = np.where(clustering.labels_==i)[0] # row in Z for elements of cluster i\n",
    "    num = row.shape[0]      # number of elements for each cluster\n",
    "    r = np.floor(num/4.)   # number of rows in the figure of the cluster\n",
    "    \n",
    "    print(\"cluster \" + str(i))\n",
    "    print(str(num) + \" elements\")\n",
    "    \n",
    "    plt.figure(figsize=(4,4), dpi=300)\n",
    "    for k in range(0, num):\n",
    "        plt.subplot(int(r+1), 4, k+1)\n",
    "        image = data[row[k], ]\n",
    "        image = image.reshape(260, 370)\n",
    "        plt.imshow(image, cmap='gray')\n",
    "        plt.axis('off')\n",
    "    plt.show()"
   ]
  },
  {
   "cell_type": "code",
   "execution_count": null,
   "id": "native-scottish",
   "metadata": {},
   "outputs": [],
   "source": []
  },
  {
   "cell_type": "code",
   "execution_count": null,
   "id": "weird-finance",
   "metadata": {},
   "outputs": [],
   "source": []
  }
 ],
 "metadata": {
  "kernelspec": {
   "display_name": "Python 3",
   "language": "python",
   "name": "python3"
  },
  "language_info": {
   "codemirror_mode": {
    "name": "ipython",
    "version": 3
   },
   "file_extension": ".py",
   "mimetype": "text/x-python",
   "name": "python",
   "nbconvert_exporter": "python",
   "pygments_lexer": "ipython3",
   "version": "3.8.5"
  }
 },
 "nbformat": 4,
 "nbformat_minor": 5
}
