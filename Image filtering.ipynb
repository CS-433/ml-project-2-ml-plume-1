{
 "cells": [
  {
   "cell_type": "code",
   "execution_count": 7,
   "id": "amazing-seventh",
   "metadata": {},
   "outputs": [
    {
     "name": "stdout",
     "output_type": "stream",
     "text": [
      "Number of black pixels: 33388\n",
      "Number of pixels: 327680\n",
      "Percentage: 10.189208984375 %\n"
     ]
    }
   ],
   "source": [
    "import cv2\n",
    "import numpy as np\n",
    "\n",
    "#read image\n",
    "img_grey = cv2.imread('thermal_1579648028_0_0.png', cv2.IMREAD_GRAYSCALE)\n",
    "\n",
    "# define a threshold, 128 is the middle of black and white in grey scale\n",
    "thresh = (np.max(img_grey) + np.min(img_grey))/2 # Not a good option\n",
    "thresh = np.mean(img_grey)-30 # Works for this particular image\n",
    "\n",
    "# threshold the image\n",
    "img_binary = cv2.threshold(img_grey, thresh, 255, cv2.THRESH_BINARY)[1]\n",
    "\n",
    "# save image\n",
    "cv2.imwrite('black-and-white.png',img_binary) \n",
    "\n",
    "# extracting black pixels from an image\n",
    "number_of_black_pix = np.sum(img_binary == 0)\n",
    "print(\"Number of black pixels:\", number_of_black_pix)\n",
    "total_pix = np.sum(img_binary >= 0)\n",
    "print(\"Number of pixels:\", total_pix)\n",
    "\n",
    "print(\"Percentage:\", number_of_black_pix/total_pix * 100, \"%\")"
   ]
  },
  {
   "cell_type": "code",
   "execution_count": null,
   "id": "suburban-assets",
   "metadata": {},
   "outputs": [],
   "source": []
  },
  {
   "cell_type": "code",
   "execution_count": null,
   "id": "communist-refund",
   "metadata": {},
   "outputs": [],
   "source": []
  },
  {
   "cell_type": "code",
   "execution_count": null,
   "id": "competitive-contract",
   "metadata": {},
   "outputs": [],
   "source": []
  }
 ],
 "metadata": {
  "kernelspec": {
   "display_name": "Python 3",
   "language": "python",
   "name": "python3"
  },
  "language_info": {
   "codemirror_mode": {
    "name": "ipython",
    "version": 3
   },
   "file_extension": ".py",
   "mimetype": "text/x-python",
   "name": "python",
   "nbconvert_exporter": "python",
   "pygments_lexer": "ipython3",
   "version": "3.8.5"
  }
 },
 "nbformat": 4,
 "nbformat_minor": 5
}
