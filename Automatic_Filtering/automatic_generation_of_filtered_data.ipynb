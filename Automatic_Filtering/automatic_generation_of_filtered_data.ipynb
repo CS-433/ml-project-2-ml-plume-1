{
 "cells": [
  {
   "cell_type": "code",
   "execution_count": 1,
   "id": "quarterly-latex",
   "metadata": {},
   "outputs": [],
   "source": [
    "from helper import *"
   ]
  },
  {
   "cell_type": "code",
   "execution_count": 2,
   "id": "guided-loading",
   "metadata": {},
   "outputs": [
    {
     "name": "stderr",
     "output_type": "stream",
     "text": [
      "/home/maribel/ml-project-2-ml-plume-1/Automatic_Filtering/helper.py:33: RuntimeWarning: invalid value encountered in long_scalars\n",
      "  return (getNumBlackPixels(image)/getNumPixels(image))*100\n"
     ]
    }
   ],
   "source": [
    "saveFilteredImages('Training_set_3K','Save_3K')"
   ]
  }
 ],
 "metadata": {
  "kernelspec": {
   "display_name": "Python 3",
   "language": "python",
   "name": "python3"
  },
  "language_info": {
   "codemirror_mode": {
    "name": "ipython",
    "version": 3
   },
   "file_extension": ".py",
   "mimetype": "text/x-python",
   "name": "python",
   "nbconvert_exporter": "python",
   "pygments_lexer": "ipython3",
   "version": "3.8.5"
  }
 },
 "nbformat": 4,
 "nbformat_minor": 5
}
