{
 "cells": [
  {
   "cell_type": "code",
   "execution_count": 2,
   "id": "adapted-jurisdiction",
   "metadata": {},
   "outputs": [],
   "source": [
    "from helper import *"
   ]
  },
  {
   "cell_type": "code",
   "execution_count": 3,
   "id": "champion-atlantic",
   "metadata": {},
   "outputs": [],
   "source": [
    "folder = 'Images'\n",
    "folderSave = 'Save'\n",
    "for filename in os.listdir(folder):\n",
    "        img = cv2.imread(os.path.join(folder,filename), cv2.IMREAD_GRAYSCALE)\n",
    "        img_binary = convertBlackAndWhite(img)\n",
    "        if (imageIsCorrect(img_binary)):\n",
    "            saveImage(img, folderSave, filename)"
   ]
  },
  {
   "cell_type": "code",
   "execution_count": null,
   "id": "tender-theta",
   "metadata": {},
   "outputs": [],
   "source": []
  }
 ],
 "metadata": {
  "kernelspec": {
   "display_name": "Python 3",
   "language": "python",
   "name": "python3"
  },
  "language_info": {
   "codemirror_mode": {
    "name": "ipython",
    "version": 3
   },
   "file_extension": ".py",
   "mimetype": "text/x-python",
   "name": "python",
   "nbconvert_exporter": "python",
   "pygments_lexer": "ipython3",
   "version": "3.8.5"
  }
 },
 "nbformat": 4,
 "nbformat_minor": 5
}
