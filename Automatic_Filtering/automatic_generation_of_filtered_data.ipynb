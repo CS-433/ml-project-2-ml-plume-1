{
 "cells": [
  {
   "cell_type": "code",
   "execution_count": 2,
   "id": "authentic-journalist",
   "metadata": {},
   "outputs": [],
   "source": [
    "from helper import *"
   ]
  },
  {
   "cell_type": "code",
   "execution_count": 3,
   "id": "running-recognition",
   "metadata": {},
   "outputs": [],
   "source": [
    "saveFilteredImages('Training_set_3K','Save_3K')"
   ]
  },
  {
   "cell_type": "code",
   "execution_count": null,
   "id": "tired-cloud",
   "metadata": {},
   "outputs": [],
   "source": []
  }
 ],
 "metadata": {
  "kernelspec": {
   "display_name": "Python 3",
   "language": "python",
   "name": "python3"
  },
  "language_info": {
   "codemirror_mode": {
    "name": "ipython",
    "version": 3
   },
   "file_extension": ".py",
   "mimetype": "text/x-python",
   "name": "python",
   "nbconvert_exporter": "python",
   "pygments_lexer": "ipython3",
   "version": "3.8.5"
  }
 },
 "nbformat": 4,
 "nbformat_minor": 5
}
