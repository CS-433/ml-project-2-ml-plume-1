{
  "cells": [
    {
      "cell_type": "code",
      "execution_count": 1,
      "metadata": {
        "id": "K3MkPwgVcsjQ"
      },
      "outputs": [],
      "source": [
        "# Import TensorFlow\n",
        "import tensorflow as tf\n",
        "from tensorflow.keras import datasets, layers, models\n",
        "import matplotlib.pyplot as plt\n",
        "\n",
        "# Import helper files\n",
        "from helper_clustering import import_data\n",
        "\n",
        "# Import numpy module\n",
        "import numpy as np\n",
        "\n",
        "# Import pandas module\n",
        "import pandas as pd\n",
        "\n",
        "# Import zipfile module\n",
        "import zipfile\n",
        "         \n",
        "images_zip = zipfile.ZipFile('images.zip')\n",
        "images_zip.extractall('Images')\n",
        " \n",
        "images_zip.close()"
      ]
    },
    {
      "cell_type": "code",
      "execution_count": 2,
      "metadata": {
        "id": "fBuR7UIzc_kR"
      },
      "outputs": [],
      "source": [
        "# Import the dataset\n",
        "# Reading the csv file:\n",
        "data = pd.read_csv('labels_data.csv')\n",
        "\n",
        "train_labels_kmeans = np.array(data['kmeans'])\n",
        "train_labels_gmm = np.array(data['gmm'])\n",
        "train_images = import_data(\"Images\", 'Save_15K')\n",
        "\n",
        "# Normalization of the pixels values so that they are between 0 and 1\n",
        "train_images = train_images/255"
      ]
    },
    {
      "cell_type": "markdown",
      "source": [
        "### Neural Network using Kmeans labels for training"
      ],
      "metadata": {
        "id": "z-uOcxgdaLVQ"
      }
    },
    {
      "cell_type": "code",
      "execution_count": 19,
      "metadata": {
        "id": "ujD6v2X5d0UA"
      },
      "outputs": [],
      "source": [
        "# Creation of the convolutional base\n",
        "model = models.Sequential()\n",
        "model.add(layers.Conv2D(32, (3, 3), activation='relu', input_shape=(128, 160, 1)))\n",
        "model.add(layers.MaxPooling2D((2, 2)))\n",
        "model.add(layers.Conv2D(64, (3, 3), activation='relu'))\n",
        "model.add(layers.MaxPooling2D((2, 2)))\n",
        "model.add(layers.Conv2D(64, (3, 3), activation='relu'))\n",
        "model.add(layers.MaxPooling2D((2, 2)))\n",
        "model.add(layers.Conv2D(64, (3, 3), activation='relu'))\n",
        "model.add(layers.MaxPooling2D((2, 2)))\n",
        "model.add(layers.Conv2D(64, (3, 3), activation='relu'))\n",
        "model.add(layers.MaxPooling2D((2, 2)))"
      ]
    },
    {
      "cell_type": "code",
      "execution_count": 20,
      "metadata": {
        "colab": {
          "base_uri": "https://localhost:8080/"
        },
        "id": "HtLzJJMQeIY-",
        "outputId": "322c0dee-40cd-4b87-b580-a685e47c6f8a"
      },
      "outputs": [
        {
          "output_type": "stream",
          "name": "stdout",
          "text": [
            "Model: \"sequential_4\"\n",
            "_________________________________________________________________\n",
            " Layer (type)                Output Shape              Param #   \n",
            "=================================================================\n",
            " conv2d_20 (Conv2D)          (None, 126, 158, 32)      320       \n",
            "                                                                 \n",
            " max_pooling2d_16 (MaxPoolin  (None, 63, 79, 32)       0         \n",
            " g2D)                                                            \n",
            "                                                                 \n",
            " conv2d_21 (Conv2D)          (None, 61, 77, 64)        18496     \n",
            "                                                                 \n",
            " max_pooling2d_17 (MaxPoolin  (None, 30, 38, 64)       0         \n",
            " g2D)                                                            \n",
            "                                                                 \n",
            " conv2d_22 (Conv2D)          (None, 28, 36, 64)        36928     \n",
            "                                                                 \n",
            " max_pooling2d_18 (MaxPoolin  (None, 14, 18, 64)       0         \n",
            " g2D)                                                            \n",
            "                                                                 \n",
            " conv2d_23 (Conv2D)          (None, 12, 16, 64)        36928     \n",
            "                                                                 \n",
            " max_pooling2d_19 (MaxPoolin  (None, 6, 8, 64)         0         \n",
            " g2D)                                                            \n",
            "                                                                 \n",
            " conv2d_24 (Conv2D)          (None, 4, 6, 64)          36928     \n",
            "                                                                 \n",
            " max_pooling2d_20 (MaxPoolin  (None, 2, 3, 64)         0         \n",
            " g2D)                                                            \n",
            "                                                                 \n",
            "=================================================================\n",
            "Total params: 129,600\n",
            "Trainable params: 129,600\n",
            "Non-trainable params: 0\n",
            "_________________________________________________________________\n"
          ]
        }
      ],
      "source": [
        "# Summary of our model by the moment\n",
        "model.summary()"
      ]
    },
    {
      "cell_type": "code",
      "execution_count": 21,
      "metadata": {
        "id": "B8eKko1cirPQ"
      },
      "outputs": [],
      "source": [
        "# Add dense layers on top of our nn\n",
        "model.add(layers.Flatten())\n",
        "model.add(layers.Dense(64, activation='relu'))\n",
        "model.add(layers.Dense(10))"
      ]
    },
    {
      "cell_type": "code",
      "execution_count": 22,
      "metadata": {
        "colab": {
          "base_uri": "https://localhost:8080/"
        },
        "id": "kW2RRZ3Ni38x",
        "outputId": "562d32cc-f23f-49a7-8ecb-a9a3ccaf6b10"
      },
      "outputs": [
        {
          "output_type": "stream",
          "name": "stdout",
          "text": [
            "Model: \"sequential_4\"\n",
            "_________________________________________________________________\n",
            " Layer (type)                Output Shape              Param #   \n",
            "=================================================================\n",
            " conv2d_20 (Conv2D)          (None, 126, 158, 32)      320       \n",
            "                                                                 \n",
            " max_pooling2d_16 (MaxPoolin  (None, 63, 79, 32)       0         \n",
            " g2D)                                                            \n",
            "                                                                 \n",
            " conv2d_21 (Conv2D)          (None, 61, 77, 64)        18496     \n",
            "                                                                 \n",
            " max_pooling2d_17 (MaxPoolin  (None, 30, 38, 64)       0         \n",
            " g2D)                                                            \n",
            "                                                                 \n",
            " conv2d_22 (Conv2D)          (None, 28, 36, 64)        36928     \n",
            "                                                                 \n",
            " max_pooling2d_18 (MaxPoolin  (None, 14, 18, 64)       0         \n",
            " g2D)                                                            \n",
            "                                                                 \n",
            " conv2d_23 (Conv2D)          (None, 12, 16, 64)        36928     \n",
            "                                                                 \n",
            " max_pooling2d_19 (MaxPoolin  (None, 6, 8, 64)         0         \n",
            " g2D)                                                            \n",
            "                                                                 \n",
            " conv2d_24 (Conv2D)          (None, 4, 6, 64)          36928     \n",
            "                                                                 \n",
            " max_pooling2d_20 (MaxPoolin  (None, 2, 3, 64)         0         \n",
            " g2D)                                                            \n",
            "                                                                 \n",
            " flatten_2 (Flatten)         (None, 384)               0         \n",
            "                                                                 \n",
            " dense_4 (Dense)             (None, 64)                24640     \n",
            "                                                                 \n",
            " dense_5 (Dense)             (None, 10)                650       \n",
            "                                                                 \n",
            "=================================================================\n",
            "Total params: 154,890\n",
            "Trainable params: 154,890\n",
            "Non-trainable params: 0\n",
            "_________________________________________________________________\n"
          ]
        }
      ],
      "source": [
        "# Summary of our model by the moment\n",
        "model.summary()"
      ]
    },
    {
      "cell_type": "code",
      "execution_count": 23,
      "metadata": {
        "colab": {
          "base_uri": "https://localhost:8080/"
        },
        "id": "qvX1G-eji6j7",
        "outputId": "1c3624fb-9cf7-49be-9493-9dd7c18626d8"
      },
      "outputs": [
        {
          "output_type": "stream",
          "name": "stdout",
          "text": [
            "Epoch 1/10\n",
            "113/113 [==============================] - 112s 980ms/step - loss: 1.4494 - accuracy: 0.2814\n",
            "Epoch 2/10\n",
            "113/113 [==============================] - 110s 974ms/step - loss: 1.3912 - accuracy: 0.2886\n",
            "Epoch 3/10\n",
            "113/113 [==============================] - 109s 968ms/step - loss: 1.3961 - accuracy: 0.2797\n",
            "Epoch 4/10\n",
            "113/113 [==============================] - 110s 970ms/step - loss: 1.3845 - accuracy: 0.2828\n",
            "Epoch 5/10\n",
            "113/113 [==============================] - 111s 982ms/step - loss: 1.3825 - accuracy: 0.2894\n",
            "Epoch 6/10\n",
            "113/113 [==============================] - 111s 978ms/step - loss: 1.3852 - accuracy: 0.2858\n",
            "Epoch 7/10\n",
            "113/113 [==============================] - 111s 984ms/step - loss: 1.3811 - accuracy: 0.2989\n",
            "Epoch 8/10\n",
            "113/113 [==============================] - 110s 970ms/step - loss: 1.3826 - accuracy: 0.2803\n",
            "Epoch 9/10\n",
            "113/113 [==============================] - 109s 968ms/step - loss: 1.3799 - accuracy: 0.2944\n",
            "Epoch 10/10\n",
            "113/113 [==============================] - 109s 967ms/step - loss: 1.3802 - accuracy: 0.2936\n"
          ]
        }
      ],
      "source": [
        "# Compilation and training of our model\n",
        "model.compile(optimizer='adam',\n",
        "              loss=tf.keras.losses.SparseCategoricalCrossentropy(from_logits=True),\n",
        "              metrics=['accuracy'])\n",
        "\n",
        "history = model.fit(train_images, train_labels_kmeans, epochs=10)#, \n",
        "                    #validation_data=(test_images, test_labels))"
      ]
    },
    {
      "cell_type": "code",
      "execution_count": 24,
      "metadata": {
        "colab": {
          "base_uri": "https://localhost:8080/",
          "height": 300
        },
        "id": "W--BuWJ9i_vk",
        "outputId": "94af79f8-464c-4710-82b6-4e72a46a2b05"
      },
      "outputs": [
        {
          "output_type": "execute_result",
          "data": {
            "text/plain": [
              "<matplotlib.legend.Legend at 0x7f557c8c4a90>"
            ]
          },
          "metadata": {},
          "execution_count": 24
        },
        {
          "output_type": "display_data",
          "data": {
            "image/png": "[encoded data removed]",
            "text/plain": [
              "<Figure size 432x288 with 1 Axes>"
            ]
          },
          "metadata": {
            "needs_background": "light"
          }
        }
      ],
      "source": [
        "# Evaluation of our model\n",
        "plt.plot(history.history['accuracy'], label='accuracy')\n",
        "# plt.plot(history.history['val_accuracy'], label = 'val_accuracy')\n",
        "plt.xlabel('Epoch')\n",
        "plt.ylabel('Accuracy')\n",
        "plt.ylim([0.2, 1])\n",
        "plt.legend(loc='lower right')"
      ]
    },
    {
      "cell_type": "markdown",
      "source": [
        "### Neural Network using GMM labels for training"
      ],
      "metadata": {
        "id": "Aiybbhcrai5e"
      }
    },
    {
      "cell_type": "code",
      "source": [
        "# Creation of the convolutional base\n",
        "model2 = models.Sequential()\n",
        "model2.add(layers.Conv2D(32, (3, 3), activation='relu', input_shape=(128, 160, 1)))\n",
        "model2.add(layers.MaxPooling2D((2, 2)))\n",
        "model2.add(layers.Conv2D(64, (3, 3), activation='relu'))\n",
        "model2.add(layers.MaxPooling2D((2, 2)))\n",
        "model2.add(layers.Conv2D(64, (3, 3), activation='relu'))\n",
        "model2.add(layers.MaxPooling2D((2, 2)))\n",
        "model2.add(layers.Conv2D(64, (3, 3), activation='relu'))\n",
        "model2.add(layers.MaxPooling2D((2, 2)))\n",
        "model2.add(layers.Conv2D(64, (3, 3), activation='relu'))\n",
        "model2.add(layers.MaxPooling2D((2, 2)))"
      ],
      "metadata": {
        "id": "Xsufixyybzt9"
      },
      "execution_count": 25,
      "outputs": []
    },
    {
      "cell_type": "code",
      "source": [
        "# Summary of our model by the moment\n",
        "model2.summary()"
      ],
      "metadata": {
        "colab": {
          "base_uri": "https://localhost:8080/"
        },
        "id": "9C17pLbAb0Ap",
        "outputId": "30b0a4b4-ad03-4c41-b22b-4602d87757b0"
      },
      "execution_count": 26,
      "outputs": [
        {
          "output_type": "stream",
          "name": "stdout",
          "text": [
            "Model: \"sequential_5\"\n",
            "_________________________________________________________________\n",
            " Layer (type)                Output Shape              Param #   \n",
            "=================================================================\n",
            " conv2d_25 (Conv2D)          (None, 126, 158, 32)      320       \n",
            "                                                                 \n",
            " max_pooling2d_21 (MaxPoolin  (None, 63, 79, 32)       0         \n",
            " g2D)                                                            \n",
            "                                                                 \n",
            " conv2d_26 (Conv2D)          (None, 61, 77, 64)        18496     \n",
            "                                                                 \n",
            " max_pooling2d_22 (MaxPoolin  (None, 30, 38, 64)       0         \n",
            " g2D)                                                            \n",
            "                                                                 \n",
            " conv2d_27 (Conv2D)          (None, 28, 36, 64)        36928     \n",
            "                                                                 \n",
            " max_pooling2d_23 (MaxPoolin  (None, 14, 18, 64)       0         \n",
            " g2D)                                                            \n",
            "                                                                 \n",
            " conv2d_28 (Conv2D)          (None, 12, 16, 64)        36928     \n",
            "                                                                 \n",
            " max_pooling2d_24 (MaxPoolin  (None, 6, 8, 64)         0         \n",
            " g2D)                                                            \n",
            "                                                                 \n",
            " conv2d_29 (Conv2D)          (None, 4, 6, 64)          36928     \n",
            "                                                                 \n",
            " max_pooling2d_25 (MaxPoolin  (None, 2, 3, 64)         0         \n",
            " g2D)                                                            \n",
            "                                                                 \n",
            "=================================================================\n",
            "Total params: 129,600\n",
            "Trainable params: 129,600\n",
            "Non-trainable params: 0\n",
            "_________________________________________________________________\n"
          ]
        }
      ]
    },
    {
      "cell_type": "code",
      "source": [
        "# Add dense layers on top of our nn\n",
        "model2.add(layers.Flatten())\n",
        "model2.add(layers.Dense(64, activation='relu'))\n",
        "model2.add(layers.Dense(10))"
      ],
      "metadata": {
        "id": "JT3AVjs4b0i6"
      },
      "execution_count": 27,
      "outputs": []
    },
    {
      "cell_type": "code",
      "source": [
        "# Summary of our model by the moment\n",
        "model2.summary()"
      ],
      "metadata": {
        "colab": {
          "base_uri": "https://localhost:8080/"
        },
        "id": "643r6tBlcEG_",
        "outputId": "3021017c-4aac-4599-c837-d135b6e19d77"
      },
      "execution_count": 28,
      "outputs": [
        {
          "output_type": "stream",
          "name": "stdout",
          "text": [
            "Model: \"sequential_5\"\n",
            "_________________________________________________________________\n",
            " Layer (type)                Output Shape              Param #   \n",
            "=================================================================\n",
            " conv2d_25 (Conv2D)          (None, 126, 158, 32)      320       \n",
            "                                                                 \n",
            " max_pooling2d_21 (MaxPoolin  (None, 63, 79, 32)       0         \n",
            " g2D)                                                            \n",
            "                                                                 \n",
            " conv2d_26 (Conv2D)          (None, 61, 77, 64)        18496     \n",
            "                                                                 \n",
            " max_pooling2d_22 (MaxPoolin  (None, 30, 38, 64)       0         \n",
            " g2D)                                                            \n",
            "                                                                 \n",
            " conv2d_27 (Conv2D)          (None, 28, 36, 64)        36928     \n",
            "                                                                 \n",
            " max_pooling2d_23 (MaxPoolin  (None, 14, 18, 64)       0         \n",
            " g2D)                                                            \n",
            "                                                                 \n",
            " conv2d_28 (Conv2D)          (None, 12, 16, 64)        36928     \n",
            "                                                                 \n",
            " max_pooling2d_24 (MaxPoolin  (None, 6, 8, 64)         0         \n",
            " g2D)                                                            \n",
            "                                                                 \n",
            " conv2d_29 (Conv2D)          (None, 4, 6, 64)          36928     \n",
            "                                                                 \n",
            " max_pooling2d_25 (MaxPoolin  (None, 2, 3, 64)         0         \n",
            " g2D)                                                            \n",
            "                                                                 \n",
            " flatten_3 (Flatten)         (None, 384)               0         \n",
            "                                                                 \n",
            " dense_6 (Dense)             (None, 64)                24640     \n",
            "                                                                 \n",
            " dense_7 (Dense)             (None, 10)                650       \n",
            "                                                                 \n",
            "=================================================================\n",
            "Total params: 154,890\n",
            "Trainable params: 154,890\n",
            "Non-trainable params: 0\n",
            "_________________________________________________________________\n"
          ]
        }
      ]
    },
    {
      "cell_type": "code",
      "source": [
        "# Compilation and training of our model\n",
        "model2.compile(optimizer='adam',\n",
        "              loss=tf.keras.losses.SparseCategoricalCrossentropy(from_logits=True),\n",
        "              metrics=['accuracy'])\n",
        "\n",
        "history2 = model2.fit(train_images, train_labels_gmm, epochs=10)"
      ],
      "metadata": {
        "colab": {
          "base_uri": "https://localhost:8080/"
        },
        "id": "Jitz2EZIcJ2B",
        "outputId": "6a684f3b-7a63-4304-f069-81de3943c8d9"
      },
      "execution_count": 29,
      "outputs": [
        {
          "output_type": "stream",
          "name": "stdout",
          "text": [
            "Epoch 1/10\n",
            "113/113 [==============================] - 114s 1s/step - loss: 1.4001 - accuracy: 0.4158\n",
            "Epoch 2/10\n",
            "113/113 [==============================] - 113s 1s/step - loss: 1.2973 - accuracy: 0.4328\n",
            "Epoch 3/10\n",
            "113/113 [==============================] - 114s 1s/step - loss: 1.2872 - accuracy: 0.4447\n",
            "Epoch 4/10\n",
            "113/113 [==============================] - 114s 1s/step - loss: 1.2882 - accuracy: 0.4386\n",
            "Epoch 5/10\n",
            "113/113 [==============================] - 113s 1s/step - loss: 1.2873 - accuracy: 0.4272\n",
            "Epoch 6/10\n",
            "113/113 [==============================] - 113s 999ms/step - loss: 1.2774 - accuracy: 0.4469\n",
            "Epoch 7/10\n",
            "113/113 [==============================] - 115s 1s/step - loss: 1.2799 - accuracy: 0.4469\n",
            "Epoch 8/10\n",
            "113/113 [==============================] - 114s 1s/step - loss: 1.2828 - accuracy: 0.4469\n",
            "Epoch 9/10\n",
            "113/113 [==============================] - 112s 989ms/step - loss: 1.2791 - accuracy: 0.4469\n",
            "Epoch 10/10\n",
            "113/113 [==============================] - 110s 976ms/step - loss: 1.2778 - accuracy: 0.4469\n"
          ]
        }
      ]
    },
    {
      "cell_type": "code",
      "source": [
        "# Evaluation of our model\n",
        "plt.plot(history2.history['accuracy'], label='accuracy')\n",
        "# plt.plot(history.history['val_accuracy'], label = 'val_accuracy')\n",
        "plt.xlabel('Epoch')\n",
        "plt.ylabel('Accuracy')\n",
        "plt.ylim([0.2, 1])\n",
        "plt.legend(loc='lower right')"
      ],
      "metadata": {
        "colab": {
          "base_uri": "https://localhost:8080/",
          "height": 300
        },
        "id": "7voK_5p3cTyZ",
        "outputId": "69cd8526-8ed2-46c4-e1cc-44dbc0be8967"
      },
      "execution_count": 30,
      "outputs": [
        {
          "output_type": "execute_result",
          "data": {
            "text/plain": [
              "<matplotlib.legend.Legend at 0x7f5577a51c50>"
            ]
          },
          "metadata": {},
          "execution_count": 30
        },
        {
          "output_type": "display_data",
          "data": {
            "image/png": "[encoded data removed]",
            "text/plain": [
              "<Figure size 432x288 with 1 Axes>"
            ]
          },
          "metadata": {
            "needs_background": "light"
          }
        }
      ]
    },
    {
      "cell_type": "code",
      "source": [
        ""
      ],
      "metadata": {
        "id": "0W4ARsmy23bx"
      },
      "execution_count": null,
      "outputs": []
    }
  ],
  "metadata": {
    "colab": {
      "collapsed_sections": [],
      "name": "convolutional_nn.ipynb",
      "provenance": []
    },
    "kernelspec": {
      "display_name": "Python 3",
      "language": "python",
      "name": "python3"
    },
    "language_info": {
      "codemirror_mode": {
        "name": "ipython",
        "version": 3
      },
      "file_extension": ".py",
      "mimetype": "text/x-python",
      "name": "python",
      "nbconvert_exporter": "python",
      "pygments_lexer": "ipython3",
      "version": "3.8.5"
    }
  },
  "nbformat": 4,
  "nbformat_minor": 0
}