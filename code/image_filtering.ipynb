{
 "cells": [
  {
   "cell_type": "code",
   "execution_count": 1,
   "id": "searching-landscape",
   "metadata": {},
   "outputs": [],
   "source": [
    "# Import the usual libraries\n",
    "import cv2\n",
    "import os\n",
    "import numpy as np"
   ]
  },
  {
   "cell_type": "code",
   "execution_count": 2,
   "id": "korean-sherman",
   "metadata": {},
   "outputs": [],
   "source": [
    "# Change of directory\n",
    "os.chdir(\"../data/Images_Labeled\")"
   ]
  },
  {
   "cell_type": "code",
   "execution_count": 3,
   "id": "hired-protocol",
   "metadata": {},
   "outputs": [],
   "source": [
    "# Useful functions\n",
    "def getNumPixels(image):\n",
    "    return np.sum(image >= 0)\n",
    "    \n",
    "def getNumBlackPixels(image):\n",
    "    return np.sum(image == 0)"
   ]
  },
  {
   "cell_type": "code",
   "execution_count": 4,
   "id": "amazing-seventh",
   "metadata": {},
   "outputs": [
    {
     "name": "stdout",
     "output_type": "stream",
     "text": [
      "Current working directory: /home/maribel/ml-project-2-ml-plume-1/generated/Automatic_Filtering/Image_Filtering\n",
      "Number of black pixels 1: 196350\n",
      "Number of pixels 1: 327680\n",
      "Percentage 1: 59.9212646484375 %\n",
      "Number of black pixels 2: 155978\n",
      "Number of pixels 2: 327680\n",
      "Percentage 2: 47.6007080078125 %\n"
     ]
    }
   ],
   "source": [
    "# Read the images\n",
    "img_grey = cv2.imread('thermal_1579648028_0_0.png', cv2.IMREAD_GRAYSCALE)\n",
    "img_grey_2 = cv2.imread('thermal_1597528867_0_0.png', cv2.IMREAD_GRAYSCALE)\n",
    "\n",
    "# Normalize the images\n",
    "img_grey_norm = np.zeros(img_grey.shape)\n",
    "img_grey_2_norm = np.zeros(img_grey_2.shape)\n",
    "result_1 = cv2.normalize(img_grey, img_grey_norm, alpha=0, beta=255, norm_type=cv2.NORM_MINMAX, dtype=cv2.CV_8UC1)\n",
    "result_2 = cv2.normalize(img_grey_2, img_grey_2_norm, alpha=0, beta=255, norm_type=cv2.NORM_MINMAX, dtype=cv2.CV_8UC1)\n",
    "\n",
    "# Define thresholds\n",
    "thresh_1 = np.mean(result_1)\n",
    "thresh_2 = np.mean(result_2)\n",
    "\n",
    "# Threshold the images\n",
    "img_binary = cv2.threshold(result_1, thresh_1, 255, cv2.THRESH_BINARY)[1]\n",
    "img_binary_2 = cv2.threshold(result_2, thresh_2, 255, cv2.THRESH_BINARY)[1]\n",
    "\n",
    "# Change directory\n",
    "os.chdir(\"..\")\n",
    "os.chdir(\"../generated/Automatic_Filtering/Image_Filtering\")\n",
    "\n",
    "# Get the current working directory\n",
    "cwd = os.getcwd()\n",
    "\n",
    "# Print the current working directory\n",
    "print(\"Current working directory: {0}\".format(cwd))\n",
    "\n",
    "# Save images\n",
    "cv2.imwrite('black-and-white.png',img_binary)\n",
    "cv2.imwrite('black-and-white-2.png',img_binary_2)\n",
    "\n",
    "# Extracting the number of black pixels of the first image\n",
    "number_of_black_pix = getNumBlackPixels(img_binary)\n",
    "print(\"Number of black pixels 1:\", number_of_black_pix)\n",
    "total_pix = getNumPixels(img_binary)\n",
    "print(\"Number of pixels 1:\", total_pix)\n",
    "\n",
    "\n",
    "# Percentage of black pixels of the first image\n",
    "percentage_1 = number_of_black_pix/total_pix * 100\n",
    "print(\"Percentage 1:\", percentage_1, \"%\")\n",
    "\n",
    "\n",
    "# Extracting the number of black pixels of the second image\n",
    "number_of_black_pix_2 = getNumBlackPixels(img_binary_2)\n",
    "print(\"Number of black pixels 2:\", number_of_black_pix_2)\n",
    "total_pix_2 = getNumPixels(img_binary_2)\n",
    "print(\"Number of pixels 2:\", total_pix_2)\n",
    "\n",
    "# Percentage of black pixels of the second image\n",
    "percentage_2 = number_of_black_pix_2/total_pix_2 * 100\n",
    "print(\"Percentage 2:\", percentage_2, \"%\")"
   ]
  },
  {
   "cell_type": "code",
   "execution_count": null,
   "id": "thirty-artwork",
   "metadata": {},
   "outputs": [],
   "source": []
  }
 ],
 "metadata": {
  "kernelspec": {
   "display_name": "Python 3",
   "language": "python",
   "name": "python3"
  },
  "language_info": {
   "codemirror_mode": {
    "name": "ipython",
    "version": 3
   },
   "file_extension": ".py",
   "mimetype": "text/x-python",
   "name": "python",
   "nbconvert_exporter": "python",
   "pygments_lexer": "ipython3",
   "version": "3.8.5"
  }
 },
 "nbformat": 4,
 "nbformat_minor": 5
}
