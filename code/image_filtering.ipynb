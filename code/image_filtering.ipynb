{
 "cells": [
  {
   "cell_type": "code",
   "execution_count": 1,
   "id": "searching-landscape",
   "metadata": {},
   "outputs": [],
   "source": [
    "import cv2\n",
    "import numpy as np"
   ]
  },
  {
   "cell_type": "code",
   "execution_count": 2,
   "id": "hired-protocol",
   "metadata": {},
   "outputs": [],
   "source": [
    "def getNumPixels(image):\n",
    "    return np.sum(image >= 0)\n",
    "    \n",
    "def getNumBlackPixels(image):\n",
    "    return np.sum(image == 0)\n",
    "\n",
    "def histogramEqualization(image):\n",
    "    equalization = cv2.equalizeHist(image)\n",
    "    return equalization\n",
    "\n",
    "def imageIsCorrect(percentage):\n",
    "    return percentage >= 4 and percentage <= 15"
   ]
  },
  {
   "cell_type": "code",
   "execution_count": 3,
   "id": "amazing-seventh",
   "metadata": {},
   "outputs": [
    {
     "name": "stdout",
     "output_type": "stream",
     "text": [
      "Number of black pixels 1: 37434\n",
      "Number of pixels 1: 327680\n",
      "Percentage 1: 11.4239501953125 %\n",
      "Image 1 is correct.\n",
      "Number of black pixels 2: 15635\n",
      "Number of pixels 2: 327680\n",
      "Percentage 2: 4.77142333984375 %\n",
      "Image 2 is correct.\n"
     ]
    }
   ],
   "source": [
    "# read image\n",
    "img_grey = cv2.imread('thermal_1579648028_0_0.png', cv2.IMREAD_GRAYSCALE)\n",
    "img_grey_2 = cv2.imread('thermal_1597528867_0_0.png', cv2.IMREAD_GRAYSCALE)\n",
    "\n",
    "# normalize the image\n",
    "img_grey_norm = np.zeros(img_grey.shape)\n",
    "img_grey_2_norm = np.zeros(img_grey_2.shape)\n",
    "result_1 = cv2.normalize(img_grey, img_grey_norm, alpha=0, beta=255, norm_type=cv2.NORM_MINMAX, dtype=cv2.CV_8UC1)\n",
    "result_2 = cv2.normalize(img_grey_2, img_grey_2_norm, alpha=0, beta=255, norm_type=cv2.NORM_MINMAX, dtype=cv2.CV_8UC1)\n",
    "\n",
    "# apply histogram equalization to the image\n",
    "# img_eq = histogramEqualization(img_grey)\n",
    "# img_eq_2 = histogramEqualization(img_grey_2)\n",
    "img_eq = histogramEqualization(result_1)\n",
    "img_eq_2 = histogramEqualization(result_2)\n",
    "\n",
    "# save image\n",
    "cv2.imwrite('equalized.png',img_eq)\n",
    "cv2.imwrite('equalized_2.png',img_eq_2)\n",
    "\n",
    "# define a threshold, 128 is the middle of black and white in grey scale\n",
    "# thresh_1 = (np.max(img_grey_norm) + np.min(img_grey_norm))/2 # Not a good option\n",
    "# thresh_1 = np.mean(img_eq) # Works for this particular image\n",
    "thresh_1 = np.mean(result_1)-np.std(result_1)\n",
    "thresh_2 = np.mean(result_2)-np.std(result_2)\n",
    "\n",
    "# threshold the image\n",
    "img_binary = cv2.threshold(result_1, thresh_1, 255, cv2.THRESH_BINARY)[1]\n",
    "img_binary_2 = cv2.threshold(result_2, thresh_2, 255, cv2.THRESH_BINARY)[1]\n",
    "\n",
    "# save image\n",
    "cv2.imwrite('black-and-white.png',img_binary)\n",
    "cv2.imwrite('black-and-white-2.png',img_binary_2)\n",
    "\n",
    "# extracting black pixels from an image\n",
    "number_of_black_pix = getNumBlackPixels(img_binary)\n",
    "print(\"Number of black pixels 1:\", number_of_black_pix)\n",
    "total_pix = getNumPixels(img_binary)\n",
    "print(\"Number of pixels 1:\", total_pix)\n",
    "\n",
    "percentage_1 = number_of_black_pix/total_pix * 100\n",
    "print(\"Percentage 1:\", percentage_1, \"%\")\n",
    "if (imageIsCorrect(percentage_1)):\n",
    "    print(\"Image 1 is correct.\")\n",
    "else:\n",
    "    print(\"Image 1 isn't correct.\")\n",
    "\n",
    "number_of_black_pix_2 = getNumBlackPixels(img_binary_2)\n",
    "print(\"Number of black pixels 2:\", number_of_black_pix_2)\n",
    "total_pix_2 = getNumPixels(img_binary_2)\n",
    "print(\"Number of pixels 2:\", total_pix_2)\n",
    "\n",
    "percentage_2 = number_of_black_pix_2/total_pix_2 * 100\n",
    "print(\"Percentage 2:\", percentage_2, \"%\")\n",
    "if (imageIsCorrect(percentage_2)):\n",
    "    print(\"Image 2 is correct.\")\n",
    "else:\n",
    "    print(\"Image 2 isn't correct.\")"
   ]
  },
  {
   "cell_type": "code",
   "execution_count": null,
   "id": "artificial-penny",
   "metadata": {},
   "outputs": [],
   "source": []
  }
 ],
 "metadata": {
  "kernelspec": {
   "display_name": "Python 3",
   "language": "python",
   "name": "python3"
  },
  "language_info": {
   "codemirror_mode": {
    "name": "ipython",
    "version": 3
   },
   "file_extension": ".py",
   "mimetype": "text/x-python",
   "name": "python",
   "nbconvert_exporter": "python",
   "pygments_lexer": "ipython3",
   "version": "3.8.5"
  }
 },
 "nbformat": 4,
 "nbformat_minor": 5
}
