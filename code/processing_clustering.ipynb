{
 "cells": [
  {
   "cell_type": "code",
   "execution_count": 1,
   "id": "49c8efa8-4039-4822-a7b7-304fe287bc4f",
   "metadata": {},
   "outputs": [],
   "source": [
    "import os\n",
    "from helper_edge_detection import *\n",
    "from helper_data_normalization import *\n",
    "from helper_pca import *\n",
    "from helper_clustering import *\n",
    "%matplotlib inline\n",
    "from sklearn.cluster import KMeans, DBSCAN\n",
    "from sklearn.mixture import GaussianMixture"
   ]
  },
  {
   "cell_type": "code",
   "execution_count": 2,
   "id": "2a7903ac-2270-433f-8108-51fea02a4272",
   "metadata": {},
   "outputs": [],
   "source": [
    "DIRECTORY = '/Users/paularescala/Documents/Professional/EPFL/ml-project-2-ml-plume-1/'"
   ]
  },
  {
   "cell_type": "markdown",
   "id": "b3eb9479-24d9-4a24-a87d-615986938eca",
   "metadata": {},
   "source": [
    "Define constants"
   ]
  },
  {
   "cell_type": "code",
   "execution_count": 3,
   "id": "b30abbcb-6d6f-4e30-9c9e-4fbde2b3f77f",
   "metadata": {},
   "outputs": [],
   "source": [
    "PATH_TO_DATA_FOLDER = os.path.join(DIRECTORY + 'rawdata/Training_set_1k')\n",
    "PATH_TO_DATA_GENERATED = os.path.join(DIRECTORY, 'generated/')"
   ]
  },
  {
   "cell_type": "markdown",
   "id": "ccb5f41b-fd3c-41a6-a803-9070defd946a",
   "metadata": {},
   "source": [
    "Load the data:"
   ]
  },
  {
   "cell_type": "code",
   "execution_count": 4,
   "id": "551dde17-5f4a-4e71-904e-301bfb0b5bde",
   "metadata": {},
   "outputs": [
    {
     "ename": "FileNotFoundError",
     "evalue": "[Errno 2] No such file or directory: '/Users/paularescala/Documents/Professional/EPFL/ml-project-2-ml-plume-1/rawdata/Training_set_1k'",
     "output_type": "error",
     "traceback": [
      "\u001b[0;31m---------------------------------------------------------------------------\u001b[0m",
      "\u001b[0;31mFileNotFoundError\u001b[0m                         Traceback (most recent call last)",
      "\u001b[0;32m<ipython-input-4-1bae6e27542c>\u001b[0m in \u001b[0;36m<module>\u001b[0;34m\u001b[0m\n\u001b[0;32m----> 1\u001b[0;31m \u001b[0mfilenames\u001b[0m\u001b[0;34m,\u001b[0m \u001b[0mdata\u001b[0m \u001b[0;34m=\u001b[0m \u001b[0mget_data_grayscale\u001b[0m\u001b[0;34m(\u001b[0m\u001b[0mPATH_TO_DATA_FOLDER\u001b[0m\u001b[0;34m)\u001b[0m\u001b[0;34m\u001b[0m\u001b[0;34m\u001b[0m\u001b[0m\n\u001b[0m",
      "\u001b[0;32m~/ml-project-2-ml-plume-1/code/helper_data_normalization.py\u001b[0m in \u001b[0;36mget_data_grayscale\u001b[0;34m(file_path)\u001b[0m\n\u001b[1;32m      9\u001b[0m \u001b[0;34m\u001b[0m\u001b[0m\n\u001b[1;32m     10\u001b[0m     \u001b[0mdata\u001b[0m \u001b[0;34m=\u001b[0m \u001b[0;34m[\u001b[0m\u001b[0;34m]\u001b[0m\u001b[0;34m\u001b[0m\u001b[0;34m\u001b[0m\u001b[0m\n\u001b[0;32m---> 11\u001b[0;31m     \u001b[0mfilenames\u001b[0m \u001b[0;34m=\u001b[0m \u001b[0mos\u001b[0m\u001b[0;34m.\u001b[0m\u001b[0mlistdir\u001b[0m\u001b[0;34m(\u001b[0m\u001b[0mfile_path\u001b[0m\u001b[0;34m)\u001b[0m\u001b[0;34m\u001b[0m\u001b[0;34m\u001b[0m\u001b[0m\n\u001b[0m\u001b[1;32m     12\u001b[0m     \u001b[0mfilenames_new\u001b[0m \u001b[0;34m=\u001b[0m \u001b[0;34m[\u001b[0m\u001b[0;34m]\u001b[0m\u001b[0;34m\u001b[0m\u001b[0;34m\u001b[0m\u001b[0m\n\u001b[1;32m     13\u001b[0m \u001b[0;34m\u001b[0m\u001b[0m\n",
      "\u001b[0;31mFileNotFoundError\u001b[0m: [Errno 2] No such file or directory: '/Users/paularescala/Documents/Professional/EPFL/ml-project-2-ml-plume-1/rawdata/Training_set_1k'"
     ]
    }
   ],
   "source": [
    "filenames, data = get_data_grayscale(PATH_TO_DATA_FOLDER)"
   ]
  },
  {
   "cell_type": "markdown",
   "id": "f4ff9c6e-9311-43aa-b527-1c9b12755343",
   "metadata": {},
   "source": [
    "# Pre-processing data"
   ]
  },
  {
   "cell_type": "code",
   "execution_count": null,
   "id": "ddba7105-d308-4849-bcf6-de527e064985",
   "metadata": {},
   "outputs": [],
   "source": [
    "data_edges_roberts, data_edges_sobel = edge_detection(data)"
   ]
  },
  {
   "cell_type": "code",
   "execution_count": null,
   "id": "c7b62563-9148-4430-b1b8-4e699e21eae7",
   "metadata": {},
   "outputs": [],
   "source": [
    "num_samples = data_edges_roberts.shape[0]"
   ]
  },
  {
   "cell_type": "code",
   "execution_count": null,
   "id": "69cf3b14-bb00-42da-ae64-5f09d69ba237",
   "metadata": {},
   "outputs": [],
   "source": [
    "feature_matrix_roberts, imgs_reduced_roberts = apply_pca(data_edges_roberts, 500, plot_explained_variance = True)\n",
    "idxs = np.random.choice(np.arange(num_samples), 2)\n",
    "visualize_img_reduction(data_edges_roberts, imgs_reduced_roberts, idxs)"
   ]
  },
  {
   "cell_type": "code",
   "execution_count": null,
   "id": "68a51f5d-f962-48e8-b1d9-5557ec0b1d27",
   "metadata": {},
   "outputs": [],
   "source": [
    "feature_matrix_sobel, imgs_reduced_sobel = apply_pca(data_edges_sobel, 500, plot_explained_variance = True)\n",
    "idxs = np.random.choice(np.arange(num_samples), 2)\n",
    "visualize_img_reduction(data_edges_sobel, imgs_reduced_sobel, idxs)"
   ]
  },
  {
   "cell_type": "markdown",
   "id": "f59d3c7b-4a07-41f1-b3db-fd6a12c8ee7e",
   "metadata": {
    "tags": []
   },
   "source": [
    "# Running kmeans clustering "
   ]
  },
  {
   "cell_type": "code",
   "execution_count": null,
   "id": "4f289329-71a3-402e-b7c1-f94bb8a7bfa6",
   "metadata": {},
   "outputs": [],
   "source": [
    "from sklearn.metrics import silhouette_score\n",
    "from sklearn.manifold import TSNE\n",
    "import pandas as pd"
   ]
  },
  {
   "cell_type": "code",
   "execution_count": null,
   "id": "e3da5be3-ac88-4f57-959d-2b4b656476c3",
   "metadata": {},
   "outputs": [],
   "source": [
    "def kmeans_full_analysis(data, start, end):\n",
    "    silhouettes = []\n",
    "    # Try multiple k\n",
    "    for k in range(start, end):\n",
    "        # Cluster the data and assigne the labels\n",
    "        labels = KMeans(n_clusters=k, random_state=10).fit_predict(data)\n",
    "        # Get the Silhouette score\n",
    "        score = silhouette_score(data, labels)\n",
    "        silhouettes.append({\"k\": k, \"score\": score})\n",
    "\n",
    "    # Convert to dataframe\n",
    "    silhouettes = pd.DataFrame(silhouettes)\n",
    "       \n",
    "    sse = []\n",
    "    for k in range(start, end):\n",
    "        # Assign the labels to the clusters\n",
    "        kmeans = KMeans(n_clusters=k, random_state=10).fit(data)\n",
    "        sse.append({\"k\": k, \"sse\": kmeans.inertia_})\n",
    "\n",
    "    sse = pd.DataFrame(sse)\n",
    "\n",
    "    fig, axs = plt.subplots(2, 1, figsize=(10,8))\n",
    "    # Plot the data\n",
    "    axs[0].plot(silhouettes.k, silhouettes.score)\n",
    "    axs[0].set(ylabel=\"Silhouette score\")\n",
    "\n",
    "    # Plot the data\n",
    "    axs[1].plot(sse.k, sse.sse)\n",
    "    plt.xlabel(\"K\")\n",
    "    axs[1].set(ylabel=\"Sum of Squared Errors\")\n",
    "    plt.tight_layout()\n",
    "    \n"
   ]
  },
  {
   "cell_type": "code",
   "execution_count": null,
   "id": "6a9f4480-3838-4b5b-b3a8-52150272937a",
   "metadata": {},
   "outputs": [],
   "source": [
    "kmeans_full_analysis(feature_matrix_roberts, 2, 11)"
   ]
  },
  {
   "cell_type": "code",
   "execution_count": null,
   "id": "eaf4e2af-2a2a-4ec7-abfe-03ebf3c3643c",
   "metadata": {},
   "outputs": [],
   "source": [
    "kmeans_full_analysis(feature_matrix_sobel,2,20)"
   ]
  },
  {
   "cell_type": "code",
   "execution_count": null,
   "id": "459d86aa-ccf2-4482-aefe-d8c7ec9916c2",
   "metadata": {},
   "outputs": [],
   "source": [
    "#fig, axs = plt.subplots(1, 2, figsize=(15,15), sharey=True)\n",
    "X_reduced_tsne = TSNE(n_components=2, random_state=0).fit_transform(feature_matrix_sobel)\n",
    "labels = KMeans(n_clusters=9, random_state=0).fit_predict(feature_matrix_sobel)\n",
    "# Cluster the data in 3 groups\n",
    "\n",
    "# Plot the data reduced in 2d space with t-SNE\n",
    "plt.scatter(X_reduced_tsne[:,0], X_reduced_tsne[:,1], c=labels, alpha=0.6)\n",
    "#axs[0].set_title(\"t-SNE\")\n",
    "\n",
    "# Plot the data reduced in 2d space with PCA\n",
    "#axs[1].scatter(X_reduced_pca[:,0], X_reduced_pca[:,1], c=labels, alpha=0.6)\n",
    "#axs[1].set_title(\"PCA\")\n",
    "plt.tight_layout()"
   ]
  },
  {
   "cell_type": "code",
   "execution_count": null,
   "id": "152e3cd0-729e-444d-ae01-13e7d3aec242",
   "metadata": {},
   "outputs": [],
   "source": []
  },
  {
   "cell_type": "code",
   "execution_count": null,
   "id": "eef53e06-4d82-492d-b807-36b70c7ca681",
   "metadata": {},
   "outputs": [],
   "source": []
  }
 ],
 "metadata": {
  "kernelspec": {
   "display_name": "Python 3",
   "language": "python",
   "name": "python3"
  },
  "language_info": {
   "codemirror_mode": {
    "name": "ipython",
    "version": 3
   },
   "file_extension": ".py",
   "mimetype": "text/x-python",
   "name": "python",
   "nbconvert_exporter": "python",
   "pygments_lexer": "ipython3",
   "version": "3.8.5"
  }
 },
 "nbformat": 4,
 "nbformat_minor": 5
}
