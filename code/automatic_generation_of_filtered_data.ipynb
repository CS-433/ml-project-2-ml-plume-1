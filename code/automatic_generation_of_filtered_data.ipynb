{
 "cells": [
  {
   "cell_type": "code",
   "execution_count": 1,
   "id": "quarterly-latex",
   "metadata": {},
   "outputs": [],
   "source": [
    "# Imports\n",
    "import os\n",
    "from helper_filtering import save_filtered_images"
   ]
  },
  {
   "cell_type": "code",
   "execution_count": 2,
   "id": "signed-thong",
   "metadata": {},
   "outputs": [],
   "source": [
    "os.chdir(\"../data\")"
   ]
  },
  {
   "cell_type": "code",
   "execution_count": 3,
   "id": "guided-loading",
   "metadata": {},
   "outputs": [],
   "source": [
    "num_images = save_filtered_images('Training_set_3K','Save_3K')"
   ]
  },
  {
   "cell_type": "code",
   "execution_count": 4,
   "id": "macro-possible",
   "metadata": {},
   "outputs": [
    {
     "name": "stdout",
     "output_type": "stream",
     "text": [
      "Number of images that have been saved: 780\n"
     ]
    }
   ],
   "source": [
    "print(\"Number of images that have been saved:\", num_images)"
   ]
  },
  {
   "cell_type": "code",
   "execution_count": null,
   "id": "textile-columbus",
   "metadata": {},
   "outputs": [],
   "source": []
  }
 ],
 "metadata": {
  "kernelspec": {
   "display_name": "Python 3",
   "language": "python",
   "name": "python3"
  },
  "language_info": {
   "codemirror_mode": {
    "name": "ipython",
    "version": 3
   },
   "file_extension": ".py",
   "mimetype": "text/x-python",
   "name": "python",
   "nbconvert_exporter": "python",
   "pygments_lexer": "ipython3",
   "version": "3.8.5"
  }
 },
 "nbformat": 4,
 "nbformat_minor": 5
}
