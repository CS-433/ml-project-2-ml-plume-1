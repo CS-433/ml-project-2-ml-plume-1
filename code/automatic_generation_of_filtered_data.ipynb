{
 "cells": [
  {
   "cell_type": "markdown",
   "id": "advisory-hardware",
   "metadata": {},
   "source": [
    "# Automatic generation of filtered data"
   ]
  },
  {
   "cell_type": "code",
   "execution_count": 1,
   "id": "quarterly-latex",
   "metadata": {},
   "outputs": [],
   "source": [
    "# Imports\n",
    "import os\n",
    "from helper_filtering import save_filtered_images"
   ]
  },
  {
   "cell_type": "code",
   "execution_count": 2,
   "id": "signed-thong",
   "metadata": {},
   "outputs": [],
   "source": [
    "os.chdir(\"../data\")"
   ]
  },
  {
   "cell_type": "code",
   "execution_count": 3,
   "id": "guided-loading",
   "metadata": {},
   "outputs": [],
   "source": [
    "num_images_1, new_files_1 = save_filtered_images('Training_set_3K','Save_3K')"
   ]
  },
  {
   "cell_type": "code",
   "execution_count": 4,
   "id": "macro-possible",
   "metadata": {},
   "outputs": [
    {
     "name": "stdout",
     "output_type": "stream",
     "text": [
      "Number of images that have been saved: 780\n"
     ]
    }
   ],
   "source": [
    "print(\"Number of images that have been saved:\", num_images_1)"
   ]
  },
  {
   "cell_type": "code",
   "execution_count": 5,
   "id": "textile-columbus",
   "metadata": {},
   "outputs": [],
   "source": [
    "num_images_2, new_files_2 = save_filtered_images('Training_set_15K','Save_15K')"
   ]
  },
  {
   "cell_type": "code",
   "execution_count": 6,
   "id": "seventh-finish",
   "metadata": {},
   "outputs": [
    {
     "name": "stdout",
     "output_type": "stream",
     "text": [
      "Number of images that have been saved: 3600\n"
     ]
    }
   ],
   "source": [
    "print(\"Number of images that have been saved:\", num_images_2)"
   ]
  },
  {
   "cell_type": "code",
   "execution_count": 7,
   "id": "valuable-balance",
   "metadata": {},
   "outputs": [],
   "source": [
    "# num_images_3, new_files_3 = save_filtered_images('Training_set_75K','Save_75K')"
   ]
  },
  {
   "cell_type": "code",
   "execution_count": 8,
   "id": "color-catalyst",
   "metadata": {},
   "outputs": [],
   "source": [
    "# print(\"Number of images that have been saved:\", num_images_3)"
   ]
  }
 ],
 "metadata": {
  "kernelspec": {
   "display_name": "Python 3",
   "language": "python",
   "name": "python3"
  },
  "language_info": {
   "codemirror_mode": {
    "name": "ipython",
    "version": 3
   },
   "file_extension": ".py",
   "mimetype": "text/x-python",
   "name": "python",
   "nbconvert_exporter": "python",
   "pygments_lexer": "ipython3",
   "version": "3.8.5"
  }
 },
 "nbformat": 4,
 "nbformat_minor": 5
}
