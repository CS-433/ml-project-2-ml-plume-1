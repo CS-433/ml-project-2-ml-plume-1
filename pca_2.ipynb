{
 "cells": [
  {
   "cell_type": "code",
   "execution_count": 1,
   "id": "f660fe8d-a52d-46df-94bc-e5752b7a34d3",
   "metadata": {},
   "outputs": [],
   "source": [
    "import numpy as np\n",
    "import pandas as pd\n",
    "import matplotlib.pyplot as plt\n",
    "from sklearn.decomposition import PCA\n",
    "from sklearn.cluster import KMeans, DBSCAN\n",
    "import cv2\n",
    "from scipy.stats import stats\n",
    "import matplotlib.image as mpimg\n",
    "import math\n",
    "import os"
   ]
  },
  {
   "cell_type": "code",
   "execution_count": 3,
   "id": "5257a4ee-4aba-447b-b0b2-7a84a1748f9a",
   "metadata": {},
   "outputs": [
    {
     "data": {
      "text/plain": [
       "(1000, 128, 160)"
      ]
     },
     "execution_count": 3,
     "metadata": {},
     "output_type": "execute_result"
    }
   ],
   "source": [
    "# We import the data\n",
    "data = []\n",
    "folderSave = 'Training_set'\n",
    "for filename in os.listdir(folderSave):\n",
    "        img = cv2.imread(os.path.join(folderSave,filename), cv2.IMREAD_GRAYSCALE)\n",
    "        data.append(img)\n",
    "data = np.array(data)\n",
    "data.shape"
   ]
  },
  {
   "cell_type": "code",
   "execution_count": 5,
   "id": "d7cafda5-833f-4165-b387-79b9c2df163d",
   "metadata": {},
   "outputs": [
    {
     "data": {
      "image/png": "[encoded data removed]",
      "text/plain": [
       "<Figure size 432x288 with 1 Axes>"
      ]
     },
     "metadata": {
      "needs_background": "light"
     },
     "output_type": "display_data"
    }
   ],
   "source": [
    "# doing PCA on full dataset instead of one image at a time\n",
    "# need to use a lot more data for this to be good I think\n",
    "\n",
    "transformed_data = data.reshape(data.shape[0], data.shape[1]*data.shape[2])\n",
    "\n",
    "pca = PCA(n_components = 100)\n",
    "pca.fit(transformed_data)\n",
    "trans_pca = pca.transform(transformed_data)\n",
    "img_reduced = pca.inverse_transform(trans_pca)\n",
    "\n",
    "\n",
    "plt.grid()\n",
    "plt.plot(np.cumsum(pca.explained_variance_ratio_ * 100))\n",
    "plt.xlabel('Number of components')\n",
    "plt.ylabel('Explained variance')\n",
    "plt.savefig('Scree plot.png')"
   ]
  },
  {
   "cell_type": "code",
   "execution_count": null,
   "id": "09ac43a2-adc2-4ede-8c06-0102d38ce826",
   "metadata": {},
   "outputs": [],
   "source": []
  }
 ],
 "metadata": {
  "kernelspec": {
   "display_name": "Python 3 (ipykernel)",
   "language": "python",
   "name": "python3"
  },
  "language_info": {
   "codemirror_mode": {
    "name": "ipython",
    "version": 3
   },
   "file_extension": ".py",
   "mimetype": "text/x-python",
   "name": "python",
   "nbconvert_exporter": "python",
   "pygments_lexer": "ipython3",
   "version": "3.8.8"
  }
 },
 "nbformat": 4,
 "nbformat_minor": 5
}
