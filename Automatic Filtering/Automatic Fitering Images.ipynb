{
 "cells": [
  {
   "cell_type": "code",
   "execution_count": 6,
   "id": "respective-logging",
   "metadata": {},
   "outputs": [],
   "source": [
    "# imports\n",
    "import cv2\n",
    "import os  # to load the images from a folder\n",
    "import numpy as np"
   ]
  },
  {
   "cell_type": "code",
   "execution_count": 7,
   "id": "graduate-chain",
   "metadata": {},
   "outputs": [],
   "source": [
    "# useful functions\n",
    "def convertBlackAndWhite(image):\n",
    "    # define a threshold\n",
    "    thresh = np.mean(image) - 30\n",
    "\n",
    "    # threshold the image\n",
    "    img_binary = cv2.threshold(image, thresh, 255, cv2.THRESH_BINARY)[1]\n",
    "    \n",
    "    return img_binary\n",
    "\n",
    "def saveBlackAndWhite(img_binary, folder, filename):\n",
    "    # save image\n",
    "    cv2.imwrite(os.path.join(folder,filename), img_binary)\n",
    "\n",
    "def getNumPixels(image):\n",
    "    return np.sum(image >= 0)\n",
    "    \n",
    "def getNumBlackPixels(image):\n",
    "    return np.sum(image == 0)\n",
    "\n",
    "def getPercentage(image):\n",
    "    return (getNumBlackPixels(image)/getNumPixels(image))*100\n",
    "\n",
    "def imageIsCorrect(image):\n",
    "    percentage = getPercentage(image)\n",
    "    return percentage >= 4 and percentage <= 23"
   ]
  },
  {
   "cell_type": "code",
   "execution_count": 8,
   "id": "continent-sector",
   "metadata": {},
   "outputs": [],
   "source": [
    "folder = 'Images'\n",
    "folderSave = 'Save'\n",
    "for filename in os.listdir(folder):\n",
    "        img = cv2.imread(os.path.join(folder,filename), cv2.IMREAD_GRAYSCALE)\n",
    "        img_binary = convertBlackAndWhite(img)\n",
    "        if (imageIsCorrect(img_binary)):\n",
    "            saveBlackAndWhite(img_binary, folderSave, filename)"
   ]
  },
  {
   "cell_type": "code",
   "execution_count": null,
   "id": "several-flour",
   "metadata": {},
   "outputs": [],
   "source": []
  }
 ],
 "metadata": {
  "kernelspec": {
   "display_name": "Python 3",
   "language": "python",
   "name": "python3"
  },
  "language_info": {
   "codemirror_mode": {
    "name": "ipython",
    "version": 3
   },
   "file_extension": ".py",
   "mimetype": "text/x-python",
   "name": "python",
   "nbconvert_exporter": "python",
   "pygments_lexer": "ipython3",
   "version": "3.8.5"
  }
 },
 "nbformat": 4,
 "nbformat_minor": 5
}
