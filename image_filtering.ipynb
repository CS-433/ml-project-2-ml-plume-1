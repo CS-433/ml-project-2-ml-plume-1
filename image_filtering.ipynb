{
 "cells": [
  {
   "cell_type": "code",
   "execution_count": 1,
   "id": "hired-protocol",
   "metadata": {},
   "outputs": [],
   "source": [
    "def getNumPixels(image):\n",
    "    return np.sum(image >= 0)\n",
    "    \n",
    "def getNumBlackPixels(image):\n",
    "    return np.sum(image == 0)\n",
    "\n",
    "def imageIsCorrect(percentage):\n",
    "    return percentage >= 4 and percentage <= 15"
   ]
  },
  {
   "cell_type": "code",
   "execution_count": 2,
   "id": "amazing-seventh",
   "metadata": {},
   "outputs": [
    {
     "name": "stdout",
     "output_type": "stream",
     "text": [
      "Number of black pixels 1: 33388\n",
      "Number of pixels 1: 327680\n",
      "Percentage 1: 10.189208984375 %\n",
      "Image 1 is correct.\n",
      "Number of black pixels 2: 14004\n",
      "Number of pixels 2: 327680\n",
      "Percentage 2: 4.273681640625 %\n",
      "Image 2 is correct.\n"
     ]
    }
   ],
   "source": [
    "import cv2\n",
    "import numpy as np\n",
    "\n",
    "#read image\n",
    "img_grey = cv2.imread('thermal_1579648028_0_0.png', cv2.IMREAD_GRAYSCALE)\n",
    "img_grey_2 = cv2.imread('thermal_1597528867_0_0.png', cv2.IMREAD_GRAYSCALE)\n",
    "\n",
    "# define a threshold, 128 is the middle of black and white in grey scale\n",
    "thresh = (np.max(img_grey) + np.min(img_grey))/2 # Not a good option\n",
    "thresh = np.mean(img_grey)-30 # Works for this particular image\n",
    "\n",
    "# threshold the image\n",
    "img_binary = cv2.threshold(img_grey, thresh, 255, cv2.THRESH_BINARY)[1]\n",
    "img_binary_2 = cv2.threshold(img_grey_2, thresh, 255, cv2.THRESH_BINARY)[1]\n",
    "\n",
    "# save image\n",
    "cv2.imwrite('black-and-white.png',img_binary)\n",
    "cv2.imwrite('black-and-white-2.png',img_binary_2)\n",
    "\n",
    "# extracting black pixels from an image\n",
    "number_of_black_pix = getNumBlackPixels(img_binary)\n",
    "print(\"Number of black pixels 1:\", number_of_black_pix)\n",
    "total_pix = getNumPixels(img_binary)\n",
    "print(\"Number of pixels 1:\", total_pix)\n",
    "\n",
    "percentage_1 = number_of_black_pix/total_pix * 100\n",
    "print(\"Percentage 1:\", percentage_1, \"%\")\n",
    "if (imageIsCorrect(percentage_1)):\n",
    "    print(\"Image 1 is correct.\")\n",
    "else:\n",
    "    print(\"Image 1 isn't correct.\")\n",
    "\n",
    "number_of_black_pix_2 = getNumBlackPixels(img_binary_2)\n",
    "print(\"Number of black pixels 2:\", number_of_black_pix_2)\n",
    "total_pix_2 = getNumPixels(img_binary_2)\n",
    "print(\"Number of pixels 2:\", total_pix_2)\n",
    "\n",
    "percentage_2 = number_of_black_pix_2/total_pix_2 * 100\n",
    "print(\"Percentage 2:\", percentage_2, \"%\")\n",
    "if (imageIsCorrect(percentage_2)):\n",
    "    print(\"Image 2 is correct.\")\n",
    "else:\n",
    "    print(\"Image 2 isn't correct.\")"
   ]
  },
  {
   "cell_type": "code",
   "execution_count": null,
   "id": "artificial-penny",
   "metadata": {},
   "outputs": [],
   "source": []
  }
 ],
 "metadata": {
  "kernelspec": {
   "display_name": "Python 3",
   "language": "python",
   "name": "python3"
  },
  "language_info": {
   "codemirror_mode": {
    "name": "ipython",
    "version": 3
   },
   "file_extension": ".py",
   "mimetype": "text/x-python",
   "name": "python",
   "nbconvert_exporter": "python",
   "pygments_lexer": "ipython3",
   "version": "3.8.5"
  }
 },
 "nbformat": 4,
 "nbformat_minor": 5
}
